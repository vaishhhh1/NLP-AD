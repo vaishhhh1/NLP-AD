{
  "nbformat": 4,
  "nbformat_minor": 0,
  "metadata": {
    "colab": {
      "provenance": []
    },
    "kernelspec": {
      "name": "python3",
      "display_name": "Python 3"
    },
    "language_info": {
      "name": "python"
    }
  },
  "cells": [
    {
      "cell_type": "code",
      "execution_count": 2,
      "metadata": {
        "colab": {
          "base_uri": "https://localhost:8080/"
        },
        "id": "dw7OYM2MUgVw",
        "outputId": "4ce1d04d-8463-4c2d-8df0-962b428dad57"
      },
      "outputs": [
        {
          "output_type": "stream",
          "name": "stdout",
          "text": [
            "Collecting youtube-transcript-api\n",
            "  Downloading youtube_transcript_api-1.0.1-py3-none-any.whl.metadata (22 kB)\n",
            "Collecting pytube\n",
            "  Downloading pytube-15.0.0-py3-none-any.whl.metadata (5.0 kB)\n",
            "Requirement already satisfied: defusedxml<0.8.0,>=0.7.1 in /usr/local/lib/python3.11/dist-packages (from youtube-transcript-api) (0.7.1)\n",
            "Requirement already satisfied: requests in /usr/local/lib/python3.11/dist-packages (from youtube-transcript-api) (2.32.3)\n",
            "Requirement already satisfied: charset-normalizer<4,>=2 in /usr/local/lib/python3.11/dist-packages (from requests->youtube-transcript-api) (3.4.1)\n",
            "Requirement already satisfied: idna<4,>=2.5 in /usr/local/lib/python3.11/dist-packages (from requests->youtube-transcript-api) (3.10)\n",
            "Requirement already satisfied: urllib3<3,>=1.21.1 in /usr/local/lib/python3.11/dist-packages (from requests->youtube-transcript-api) (2.3.0)\n",
            "Requirement already satisfied: certifi>=2017.4.17 in /usr/local/lib/python3.11/dist-packages (from requests->youtube-transcript-api) (2025.1.31)\n",
            "Downloading youtube_transcript_api-1.0.1-py3-none-any.whl (1.9 MB)\n",
            "\u001b[2K   \u001b[90m━━━━━━━━━━━━━━━━━━━━━━━━━━━━━━━━━━━━━━━━\u001b[0m \u001b[32m1.9/1.9 MB\u001b[0m \u001b[31m17.8 MB/s\u001b[0m eta \u001b[36m0:00:00\u001b[0m\n",
            "\u001b[?25hDownloading pytube-15.0.0-py3-none-any.whl (57 kB)\n",
            "\u001b[2K   \u001b[90m━━━━━━━━━━━━━━━━━━━━━━━━━━━━━━━━━━━━━━━━\u001b[0m \u001b[32m57.6/57.6 kB\u001b[0m \u001b[31m2.5 MB/s\u001b[0m eta \u001b[36m0:00:00\u001b[0m\n",
            "\u001b[?25hInstalling collected packages: pytube, youtube-transcript-api\n",
            "Successfully installed pytube-15.0.0 youtube-transcript-api-1.0.1\n"
          ]
        }
      ],
      "source": [
        "!pip install youtube-transcript-api pytube\n",
        "\n",
        "\n",
        "\n",
        "\n"
      ]
    },
    {
      "cell_type": "code",
      "source": [
        "from youtube_transcript_api import YouTubeTranscriptApi\n",
        "\n",
        "def get_youtube_transcript(video_url):\n",
        "\n",
        "    \"\"\"Fetches the transcript of a YouTube video.\"\"\"\n",
        "\n",
        "    video_id = video_url.split(\"v=\")[1].split(\"&\")[0]  # Extract video ID\n",
        "\n",
        "    transcript = YouTubeTranscriptApi.get_transcript(video_id)\n",
        "\n",
        "    full_text = \" \".join([t[\"text\"] for t in transcript])\n",
        "\n",
        "    return full_text\n",
        "\n",
        "# Example Usage\n",
        "\n",
        "video_url = \"https://www.youtube.com/watch?v=7eh4d6sabA0\"\n",
        "\n",
        "video_transcript = get_youtube_transcript(video_url)\n",
        "\n",
        "print(\"Transcript:\\n\", video_transcript[:500])  # Show first 500 characters"
      ],
      "metadata": {
        "colab": {
          "base_uri": "https://localhost:8080/"
        },
        "id": "TlMm_3M9Unev",
        "outputId": "0e7d8602-410e-40f8-9c06-14d31d432129"
      },
      "execution_count": 7,
      "outputs": [
        {
          "output_type": "stream",
          "name": "stdout",
          "text": [
            "Transcript:\n",
            " [Music] if you're looking for a machine learning tutorial with python and jupyter notebook this tutorial is for you you're going to learn how to solve a real world problem using machine learning and python we're going to start off with a brief introduction to machine learning then we're going to talk about the tools you need and after that we're going to jump straight into the problem we're going to solve you'll learn how to build a model that can learn and predict the kind of music people like \n"
          ]
        }
      ]
    },
    {
      "cell_type": "code",
      "source": [
        "# Configure Gemini API\n",
        "\n",
        "import google.generativeai as genai\n",
        "\n",
        "from google.colab import userdata\n",
        "\n",
        "GOOGLE_API_KEY=userdata.get('GOOGLE_API_KEY')\n",
        "\n",
        "genai.configure(api_key=GOOGLE_API_KEY)\n",
        "\n",
        "\n",
        "\n",
        "\n"
      ],
      "metadata": {
        "id": "c3Wuz6uZWbXC"
      },
      "execution_count": 9,
      "outputs": []
    },
    {
      "cell_type": "code",
      "source": [
        "def summarize_video(text):\n",
        "\n",
        "    \"\"\"Summarizes the YouTube video transcript using Gemini AI.\"\"\"\n",
        "\n",
        "    model = genai.GenerativeModel(\"gemini-1.5-flash\")\n",
        "\n",
        "    prompt = f\"Summarize the following YouTube video transcript:\\n\\n{text}\"\n",
        "\n",
        "    response = model.generate_content(prompt)\n",
        "\n",
        "    return response.text\n",
        "\n",
        "summary = summarize_video(video_transcript)\n",
        "\n",
        "print(\"Summary:\\n\", summary)\n",
        "\n",
        "\n",
        "\n",
        "\n"
      ],
      "metadata": {
        "colab": {
          "base_uri": "https://localhost:8080/",
          "height": 332
        },
        "id": "bloeCBuTUnhC",
        "outputId": "0acae121-f611-4cf0-bc84-ebb4efa2495c"
      },
      "execution_count": 10,
      "outputs": [
        {
          "output_type": "stream",
          "name": "stdout",
          "text": [
            "Summary:\n",
            " This one-hour YouTube tutorial teaches the basics of machine learning using Python and Jupyter Notebook.  No prior ML knowledge is required, but familiarity with Python is assumed.  The tutorial uses a real-world example: building a model to predict music preferences based on user age and gender.\n",
            "\n",
            "The video covers:\n",
            "\n",
            "* **Introduction to Machine Learning:** Explains ML as a way to solve complex problems by identifying patterns in data, contrasting it with traditional programming.  It highlights applications in various fields.\n",
            "* **Tools and Setup:**  Details installing Anaconda, which includes Jupyter Notebook, NumPy, Pandas, Matplotlib, and scikit-learn.  It guides viewers through setting up a Jupyter Notebook environment.\n",
            "* **Machine Learning Project Workflow:**  Explains the steps involved in a typical ML project: data import, cleaning (handling duplicates and missing values, converting text to numerical data), data splitting (training and testing sets), model creation (using scikit-learn), model training, prediction, and model evaluation (measuring accuracy).\n",
            "* **Pandas and Jupyter Notebook:** Demonstrates using Pandas to load and explore data from a CSV file (using `read_csv`, `shape`, `describe`, and other methods) within a Jupyter Notebook environment.  It also shows useful Jupyter shortcuts.\n",
            "* **Building a Music Recommendation Model:**  A practical example using a decision tree algorithm from scikit-learn to predict music genres based on a small dataset of user ages and genders.\n",
            "* **Model Evaluation and Accuracy:**  Shows how to split data into training and testing sets using `train_test_split` and calculate accuracy using `accuracy_score`.  It emphasizes the importance of sufficient data for accurate model training.\n",
            "* **Model Persistence:**  Explains how to save and load a trained model using `joblib` to avoid retraining every time predictions are needed.\n",
            "* **Visualizing the Decision Tree:**  Shows how to export the decision tree model to a visual format (DOT) and view it using a VS Code extension, providing a clear understanding of how the model makes predictions.\n",
            "\n",
            "\n",
            "The tutorial uses a simplified, fictional dataset for the music recommendation project, focusing on the core concepts of machine learning rather than complex data manipulation or advanced algorithms.  The instructor also promotes their online coding school.\n",
            "\n"
          ]
        }
      ]
    },
    {
      "cell_type": "code",
      "source": [
        "def extract_video_insights(text):\n",
        "\n",
        "    \"\"\"Summarizes the YouTube video transcript using Gemini AI.\"\"\"\n",
        "\n",
        "    model = genai.GenerativeModel(\"gemini-1.5-flash\")\n",
        "\n",
        "    prompt = f\"Extract the key takeaways and insights from this YouTube video:\\n\\n{text}\"\n",
        "\n",
        "    response = model.generate_content(prompt)\n",
        "\n",
        "    return response.text\n",
        "\n",
        "insights = extract_video_insights(video_transcript)\n",
        "\n",
        "print(\"Key insights:\\n\", insights)\n",
        "\n",
        "\n",
        "\n",
        "\n"
      ],
      "metadata": {
        "colab": {
          "base_uri": "https://localhost:8080/",
          "height": 401
        },
        "id": "hDDM0VCtUnir",
        "outputId": "123cf8bd-d3dd-4413-a4b8-aa4c5a07c8ec"
      },
      "execution_count": 12,
      "outputs": [
        {
          "output_type": "stream",
          "name": "stdout",
          "text": [
            "Key insights:\n",
            " This YouTube tutorial provides a one-hour introduction to machine learning using Python and Jupyter Notebook.  No prior machine learning knowledge is required, but a solid understanding of Python is assumed. The tutorial uses a real-world example: building a model to predict music genre preferences based on user age and gender.\n",
            "\n",
            "The video covers:\n",
            "\n",
            "* **Machine Learning Basics:**  Explains the core concept of machine learning as a way to solve complex problems by identifying patterns in data, contrasting it with traditional programming.  It highlights applications in various fields.\n",
            "\n",
            "* **Tools and Setup:** Details installing Anaconda, which simplifies installing necessary Python libraries (NumPy, Pandas, Matplotlib, scikit-learn) and Jupyter Notebook.  The tutorial demonstrates setting up Jupyter Notebook and navigating its interface.\n",
            "\n",
            "* **Data Handling:** Shows how to import a CSV dataset using Pandas, inspect the data using methods like `.describe()` and `.shape`, and prepare the data by splitting it into input (features) and output (target variable) sets.\n",
            "\n",
            "* **Model Building and Training:** Uses scikit-learn's `DecisionTreeClassifier` to build and train a model.\n",
            "\n",
            "* **Model Evaluation:** Explains the importance of splitting data into training and testing sets to evaluate model accuracy using `train_test_split` and `accuracy_score`.  It emphasizes the impact of data size on model accuracy.\n",
            "\n",
            "* **Model Persistence:** Demonstrates saving and loading a trained model using `joblib` to avoid retraining the model repeatedly.\n",
            "\n",
            "* **Visualizing the Model:**  Exports the trained decision tree model to a DOT file and visualizes it using a VS Code extension, explaining how the decision tree makes predictions based on the input features.\n",
            "\n",
            "The tutorial uses a simplified, fictional dataset for demonstration purposes.  The instructor also promotes their online coding school.\n",
            "\n"
          ]
        }
      ]
    },
    {
      "cell_type": "code",
      "source": [
        "def extract_video_insights(text):\n",
        "\n",
        "    \"\"\"Extracts key insights from the YouTube video transcript.\"\"\"\n",
        "\n",
        "    model = genai.GenerativeModel(\"gemini-1.5-flash\")\n",
        "\n",
        "    prompt = f\"Extract the key takeaways and insights from this YouTube video:\\n\\n{text}\"\n",
        "\n",
        "    response = model.generate_content(prompt)\n",
        "\n",
        "    return response.text\n",
        "\n",
        "insights = extract_video_insights(video_transcript)\n",
        "\n",
        "print(\"Key Insights:\\n\", insights)\n",
        "\n",
        "\n",
        "\n",
        "\n"
      ],
      "metadata": {
        "colab": {
          "base_uri": "https://localhost:8080/",
          "height": 800
        },
        "id": "MCuLgWljUnks",
        "outputId": "76fca032-4903-4fc7-b341-3890087aecf9"
      },
      "execution_count": 13,
      "outputs": [
        {
          "output_type": "stream",
          "name": "stdout",
          "text": [
            "Key Insights:\n",
            " This YouTube tutorial provides a beginner-friendly introduction to machine learning using Python and Jupyter Notebook.  Here are the key takeaways and insights:\n",
            "\n",
            "**I. Machine Learning Fundamentals:**\n",
            "\n",
            "* **What is Machine Learning?**  Machine learning is a subset of AI that allows computers to learn from data without explicit programming.  Instead of relying on hard-coded rules, machine learning models identify patterns in data to make predictions.  This is particularly useful for complex problems where traditional programming would be overly complex or impossible.\n",
            "* **Real-world Applications:** The tutorial highlights various applications, including image recognition (cat vs. dog), self-driving cars, robotics, language processing, forecasting (stock market, weather), and game development.\n",
            "* **Steps in a Machine Learning Project:** The tutorial outlines the typical steps:\n",
            "    1. **Data Import:** Loading data from sources like CSV files.\n",
            "    2. **Data Cleaning:** Handling duplicates, missing values, and converting data types (e.g., text to numerical).\n",
            "    3. **Data Splitting:** Dividing the data into training and testing sets.\n",
            "    4. **Model Creation:** Choosing an appropriate algorithm (e.g., decision trees, neural networks) using libraries like scikit-learn.\n",
            "    5. **Model Training:**  Feeding the training data to the model to learn patterns.\n",
            "    6. **Prediction:** Using the trained model to make predictions on new, unseen data.\n",
            "    7. **Model Evaluation:** Assessing the accuracy of the predictions and iteratively improving the model.\n",
            "\n",
            "**II. Tools and Technologies:**\n",
            "\n",
            "* **Python Libraries:** The tutorial emphasizes the use of essential Python libraries:\n",
            "    * **NumPy:** For numerical computing, especially multi-dimensional arrays.\n",
            "    * **Pandas:** For data analysis and manipulation using DataFrames (similar to Excel spreadsheets).\n",
            "    * **Matplotlib:** For creating visualizations and plots.\n",
            "    * **Scikit-learn:** A comprehensive machine learning library providing various algorithms.\n",
            "* **Jupyter Notebook:** The tutorial strongly advocates for Jupyter Notebook as the ideal environment for machine learning projects due to its interactive nature, allowing for easy data inspection and code execution.  Anaconda is recommended for easy installation of Jupyter and relevant libraries.\n",
            "* **Kaggle:** Introduced as a valuable resource for finding and downloading datasets for machine learning projects.\n",
            "\n",
            "**III. Practical Example: Music Genre Prediction**\n",
            "\n",
            "The tutorial walks through a simplified music genre prediction project:\n",
            "\n",
            "* **Dataset:** A small, synthetic dataset containing user age, gender, and preferred music genre.\n",
            "* **Algorithm:** A decision tree classifier is used due to its simplicity and ease of understanding.\n",
            "* **Model Training and Prediction:** The tutorial demonstrates how to train the model and use it to predict music genres for new users.\n",
            "* **Model Evaluation:** The importance of splitting data into training and testing sets for accurate evaluation is highlighted.  The impact of insufficient training data on model accuracy is shown.\n",
            "* **Model Persistence:**  The use of `joblib` for saving and loading trained models to avoid retraining is explained.  This is crucial for efficiency in real-world applications.\n",
            "* **Decision Tree Visualization:** The tutorial shows how to export the trained decision tree model as a visual graph using `graphviz`, making the model's decision-making process transparent and understandable.\n",
            "\n",
            "**IV.  Additional Resources:**\n",
            "\n",
            "The instructor promotes their own online coding school, offering a Python course as a supplementary resource for those seeking more in-depth knowledge.\n",
            "\n",
            "\n",
            "In summary, the tutorial provides a practical and accessible introduction to machine learning concepts, tools, and techniques, using a relatable music genre prediction project to illustrate the key steps involved.  It emphasizes the importance of data cleaning, model evaluation, and model persistence for building effective machine learning systems.\n",
            "\n"
          ]
        }
      ]
    },
    {
      "cell_type": "code",
      "source": [
        "def ask_question_about_video(text, question):\n",
        "\n",
        "    \"\"\"Answers user questions about the YouTube video content.\"\"\"\n",
        "\n",
        "    model = genai.GenerativeModel(\"gemini-1.5-flash\")\n",
        "\n",
        "    prompt = f\"The following is a YouTube video transcript:\\n\\n{text}\\n\\nAnswer this question based on the content:\\n{question}\"\n",
        "\n",
        "    response = model.generate_content(prompt)\n",
        "\n",
        "    return response.text\n",
        "\n",
        "question = \"What is the main topic discussed in the video?\"\n",
        "\n",
        "answer = ask_question_about_video(video_transcript, question)\n",
        "\n",
        "print(\"Answer:\\n\", answer)"
      ],
      "metadata": {
        "colab": {
          "base_uri": "https://localhost:8080/",
          "height": 89
        },
        "id": "7P3KzVn5Unmz",
        "outputId": "ab91683e-02d4-459d-82c9-ecc670c4405e"
      },
      "execution_count": 14,
      "outputs": [
        {
          "output_type": "stream",
          "name": "stdout",
          "text": [
            "Answer:\n",
            " The video is a machine learning tutorial using Python and Jupyter Notebook.  It focuses on building a model that predicts music genre preferences based on user age and gender.  The tutorial covers the basics of machine learning, necessary tools (libraries like NumPy, Pandas, Matplotlib, scikit-learn, and Jupyter Notebook), data cleaning, model building (using a decision tree algorithm), model training, prediction, accuracy evaluation, and model persistence.\n",
            "\n"
          ]
        }
      ]
    },
    {
      "cell_type": "code",
      "source": [
        "def analyze_sentiment(text):\n",
        "\n",
        "    \"\"\"Performs sentiment analysis on the YouTube video transcript.\"\"\"\n",
        "\n",
        "    model = genai.GenerativeModel(\"gemini-1.5-flash\")\n",
        "\n",
        "    prompt = f\"Analyze the sentiment of this YouTube video transcript. Is it positive, negative, or neutral?\\n\\n{text}\"\n",
        "\n",
        "    response = model.generate_content(prompt)\n",
        "\n",
        "    return response.text\n",
        "\n",
        "sentiment = analyze_sentiment(video_transcript)\n",
        "\n",
        "print(\"Sentiment Analysis:\\n\", sentiment)\n",
        "\n",
        "\n",
        "\n",
        "\n"
      ],
      "metadata": {
        "colab": {
          "base_uri": "https://localhost:8080/",
          "height": 245
        },
        "id": "bdlHjK6cUnob",
        "outputId": "c825420d-a825-44f4-fcb6-492d64e1bc53"
      },
      "execution_count": 15,
      "outputs": [
        {
          "output_type": "stream",
          "name": "stdout",
          "text": [
            "Sentiment Analysis:\n",
            " The sentiment of the YouTube video transcript is overwhelmingly **positive**.  The instructor maintains an enthusiastic and encouraging tone throughout.  Key indicators of positive sentiment include:\n",
            "\n",
            "* **Enthusiastic language:** Phrases like \"super excited,\" \"beautiful thing,\" \"pretty easy,\" and \"really cool\" are used frequently.\n",
            "* **Helpful and encouraging tone:** The instructor repeatedly assures viewers that they don't need prior knowledge and offers additional resources.  The tone is patient and supportive, explaining complex concepts in an accessible way.\n",
            "* **Positive framing of machine learning:** Machine learning is presented as a powerful and exciting field with many applications.\n",
            "* **Positive feedback solicitation:** The instructor explicitly asks viewers to like, share, and subscribe.\n",
            "* **Overall structure:** The tutorial is well-organized and clearly structured, conveying competence and confidence.\n",
            "\n",
            "\n",
            "While there are some neutral sections explaining technical details, the overall emotional tone remains consistently positive and upbeat.  The instructor's enthusiasm is infectious, making the learning experience feel positive for the viewer.\n",
            "\n"
          ]
        }
      ]
    },
    {
      "cell_type": "code",
      "source": [],
      "metadata": {
        "id": "qSUukG3aUnqm"
      },
      "execution_count": null,
      "outputs": []
    },
    {
      "cell_type": "code",
      "source": [],
      "metadata": {
        "id": "ZqzTRiy4UnsH"
      },
      "execution_count": null,
      "outputs": []
    },
    {
      "cell_type": "code",
      "source": [],
      "metadata": {
        "id": "TpJoDEF_Unt0"
      },
      "execution_count": null,
      "outputs": []
    },
    {
      "cell_type": "code",
      "source": [],
      "metadata": {
        "id": "-4sx0g5ZUnv9"
      },
      "execution_count": null,
      "outputs": []
    },
    {
      "cell_type": "code",
      "source": [],
      "metadata": {
        "id": "mzI7PpiQUnyS"
      },
      "execution_count": null,
      "outputs": []
    },
    {
      "cell_type": "code",
      "source": [],
      "metadata": {
        "id": "w1prBh8_Un1w"
      },
      "execution_count": null,
      "outputs": []
    }
  ]
}
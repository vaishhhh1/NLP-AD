{
  "nbformat": 4,
  "nbformat_minor": 0,
  "metadata": {
    "colab": {
      "provenance": []
    },
    "kernelspec": {
      "name": "python3",
      "display_name": "Python 3"
    },
    "language_info": {
      "name": "python"
    }
  },
  "cells": [
    {
      "cell_type": "code",
      "execution_count": 3,
      "metadata": {
        "id": "VJ5vkWrDNdXp"
      },
      "outputs": [],
      "source": [
        "import google.generativeai as genai\n",
        "from google.colab import userdata\n",
        "GOOGLE_API_KEY = userdata.get('GOOGLE_API_KEY')\n",
        "genai.configure(api_key=GOOGLE_API_KEY)"
      ]
    },
    {
      "cell_type": "code",
      "source": [
        "pip install PyPDF2"
      ],
      "metadata": {
        "colab": {
          "base_uri": "https://localhost:8080/"
        },
        "id": "FRZX-0KPNteQ",
        "outputId": "dc1a098b-d4fa-4972-fca3-e49f280403ec"
      },
      "execution_count": 1,
      "outputs": [
        {
          "output_type": "stream",
          "name": "stdout",
          "text": [
            "Collecting PyPDF2\n",
            "  Downloading pypdf2-3.0.1-py3-none-any.whl.metadata (6.8 kB)\n",
            "Downloading pypdf2-3.0.1-py3-none-any.whl (232 kB)\n",
            "\u001b[?25l   \u001b[90m━━━━━━━━━━━━━━━━━━━━━━━━━━━━━━━━━━━━━━━━\u001b[0m \u001b[32m0.0/232.6 kB\u001b[0m \u001b[31m?\u001b[0m eta \u001b[36m-:--:--\u001b[0m\r\u001b[2K   \u001b[91m━━━━━━━━━━━━━━━━━━━━━━━━━━\u001b[0m\u001b[90m╺\u001b[0m\u001b[90m━━━━━━━━━━━━━\u001b[0m \u001b[32m153.6/232.6 kB\u001b[0m \u001b[31m4.7 MB/s\u001b[0m eta \u001b[36m0:00:01\u001b[0m\r\u001b[2K   \u001b[90m━━━━━━━━━━━━━━━━━━━━━━━━━━━━━━━━━━━━━━━━\u001b[0m \u001b[32m232.6/232.6 kB\u001b[0m \u001b[31m4.0 MB/s\u001b[0m eta \u001b[36m0:00:00\u001b[0m\n",
            "\u001b[?25hInstalling collected packages: PyPDF2\n",
            "Successfully installed PyPDF2-3.0.1\n"
          ]
        }
      ]
    },
    {
      "cell_type": "code",
      "source": [
        "import PyPDF2\n",
        "def extract_text_from_pdf(pdf_path):\n",
        "    text = \"\"\n",
        "    with open(pdf_path, 'rb') as pdf_file:\n",
        "        reader = PyPDF2.PdfReader(pdf_file)\n",
        "        for page in reader.pages:\n",
        "            text += page.extract_text() +\"\"\n",
        "    return text"
      ],
      "metadata": {
        "id": "P32-ZHnaOOJF"
      },
      "execution_count": 17,
      "outputs": []
    },
    {
      "cell_type": "code",
      "source": [
        "def extract_health_insights(text):\n",
        "  model=genai.GenerativeModel(\"gemini-1.5-flash\")\n",
        "  prompt = f\"Extract key insights from the following health report:\\n\\n{text}\"\n",
        "  response = model.generate_content(prompt)\n",
        "  return response.text\n",
        "\n",
        "pdf_file=\"health_report.pdf\"\n",
        "extracted_text=extract_text_from_pdf(pdf_file)\n",
        "insights=extract_health_insights(extracted_text)\n",
        "print(\"Key Insights:\\n\",insights)"
      ],
      "metadata": {
        "colab": {
          "base_uri": "https://localhost:8080/",
          "height": 592
        },
        "id": "FhcejELgOOLn",
        "outputId": "43accb94-a6fc-4ac6-fb00-159f04689e14"
      },
      "execution_count": 18,
      "outputs": [
        {
          "output_type": "stream",
          "name": "stdout",
          "text": [
            "Key Insights:\n",
            " Mr. Kishan Goud's (MR2100003157) health report from 01/02/2021 reveals the following key insights:\n",
            "\n",
            "**Infections:**\n",
            "\n",
            "* **Widal Test:** Elevated titers for *Salmonella Typhi* \"O\" (1:160) and \"H\" (1:80) suggest a possible past or present typhoid infection.  The reference range is 1:20, indicating the positive results are significantly above this threshold.  *Salmonella Paratyphi* \"AH\" and \"BH\" titers were within the normal range.\n",
            "\n",
            "* **Dengue:**  Negative results for Dengue NS1 antigen, IgG, and IgM antibodies rule out a current or recent dengue fever infection.\n",
            "\n",
            "* **Malaria:**  Negative rapid malaria tests for *Plasmodium falciparum* and *Plasmodium vivax* exclude malaria.\n",
            "\n",
            "**Hematology:**\n",
            "\n",
            "* **Complete Blood Count (CBC):**  Most blood parameters are within normal ranges.  Slightly elevated ESR (26 mm/hr in the first hour, 52 mm/hr in the second hour) may indicate inflammation or infection, correlating with the Widal test results.\n",
            "\n",
            "* **HbA1c:**  5.4%, indicating good glycemic control and is within the normal non-diabetic range (4-6%).\n",
            "\n",
            "**Biochemistry:**\n",
            "\n",
            "* **Liver Function Tests (LFTs):** All liver function parameters (bilirubin, alkaline phosphatase, SGOT, SGPT, total protein, albumin, globulin, A/G ratio) are within normal limits, suggesting no significant liver dysfunction.\n",
            "\n",
            "* **Serum Electrolytes:**  Serum sodium (122 mmol/l) is slightly low (reference range: 135-146 mmol/l), while potassium and chloride are within normal ranges.  The low sodium warrants further investigation.\n",
            "\n",
            "* **Creatinine:**  Serum creatinine (0.8 mg/dl) is within the normal range (0.6-1.25 mg/dl), indicating normal kidney function.\n",
            "\n",
            "* **Random Blood Glucose:**  Not explicitly stated, but assumed to be within normal range considering the HbA1c.\n",
            "\n",
            "\n",
            "**Overall:**\n",
            "\n",
            "The most significant finding is the elevated Widal test results, suggesting a possible typhoid infection. The elevated ESR supports this possibility.  The low sodium level requires further evaluation.  All other tests, including those for dengue and malaria, were negative.  The patient's other blood parameters and liver function tests were largely within normal limits.  Further investigation might be needed to determine the cause of the slightly low sodium and to confirm the typhoid suspicion.\n",
            "\n"
          ]
        }
      ]
    },
    {
      "cell_type": "code",
      "source": [
        "#Summarize health reports\n",
        "def summarize_health_report(text):\n",
        "  model=genai.GenerativeModel(\"gemini-1.5-flash\")\n",
        "  prompt = f\"Summarize the following health report:\\n\\n{text}\"\n",
        "  response = model.generate_content(prompt)\n",
        "  return response.text\n",
        "\n",
        "summary = summarize_health_report(extracted_text)\n",
        "print(\"Summary:\\n\",summary)"
      ],
      "metadata": {
        "colab": {
          "base_uri": "https://localhost:8080/",
          "height": 488
        },
        "id": "mzs4YWVnOOO7",
        "outputId": "393be4ed-1a47-441e-8db4-f9f44952f001"
      },
      "execution_count": 19,
      "outputs": [
        {
          "output_type": "stream",
          "name": "stdout",
          "text": [
            "Summary:\n",
            " Mr. Kishan Goud's (MR2100003157) blood test results from February 1st, 2021, show:\n",
            "\n",
            "* **Widal Test:** Elevated titers for *Salmonella Typhi* \"O\" (1:160) and \"H\" (1:80), suggesting possible past or present typhoid infection.  *Salmonella Paratyphi* AH and BH titers were within the normal range.\n",
            "\n",
            "* **Dengue Serology:** Negative for Dengue NS1 antigen, IgG, and IgM antibodies.\n",
            "\n",
            "* **ESR:** Elevated (26 mm/hr in the first hour, 52 mm/hr in the second hour), indicating inflammation.\n",
            "\n",
            "* **Malaria Test:** Negative for both *Plasmodium falciparum* and *Plasmodium vivax*.\n",
            "\n",
            "* **Complete Blood Picture (CBC):**  Hemoglobin, RBC, WBC, and platelet counts were within the normal range. Differential count showed normal neutrophil, lymphocyte, monocyte, eosinophil, and basophil percentages.  Peripheral blood smear showed normal RBC morphology and WBC count within normal limits.\n",
            "\n",
            "* **HbA1c:** 5.4%, indicating good blood glucose control (within the normal non-diabetic range).\n",
            "\n",
            "* **Serum Creatinine:** 0.8 mg/dl, within the normal range.\n",
            "\n",
            "* **Random Blood Glucose:**  The result is missing from the provided text.\n",
            "\n",
            "* **Liver Function Tests (LFTs):**  All liver enzymes (bilirubin, alkaline phosphatase, SGOT, SGPT) and proteins (total protein, albumin, globulin) were within normal ranges.\n",
            "\n",
            "* **Serum Electrolytes:** Sodium (122 mmol/l) was slightly low, while potassium and chloride levels were within the normal range.\n",
            "\n",
            "\n",
            "**Overall:** While the elevated Widal test suggests possible typhoid exposure, the negative dengue test and generally normal other test results need to be considered in conjunction with clinical presentation to determine the overall diagnosis and appropriate treatment. The slightly low sodium level should also be investigated further.\n",
            "\n"
          ]
        }
      ]
    },
    {
      "cell_type": "code",
      "source": [
        "\n",
        "def detect_abnormalities(text):\n",
        "  model=genai.GenerativeModel(\"gemini-1.5-flash\")\n",
        "  prompt = f\"Analyze the test result in the following health report and highlight any abnormal values:\\n\\n{text}\"\n",
        "  response = model.generate_content(prompt)\n",
        "  return response.text\n",
        "\n",
        "abnormalities=detect_abnormalities(extracted_text)\n",
        "print(\"Potential Abnormalities\\n\",abnormalities)"
      ],
      "metadata": {
        "colab": {
          "base_uri": "https://localhost:8080/",
          "height": 297
        },
        "id": "oynx49vJOORF",
        "outputId": "33095160-42f8-4c7b-a53c-2e12fbfbd910"
      },
      "execution_count": 20,
      "outputs": [
        {
          "output_type": "stream",
          "name": "stdout",
          "text": [
            "Potential Abnormalities\n",
            " Based on the provided lab results and reference ranges, the following values are outside the normal range for Mr. Kishan Goud:\n",
            "\n",
            "* **Widal Test:**  Both S. Typhi \"O\" (1:160) and S. Typhi \"H\" (1:80) are significantly higher than the reference range of 1:20.  This suggests a possible past or present infection with *Salmonella Typhi*, the bacteria that causes typhoid fever.  Further investigation and clinical correlation are needed.\n",
            "\n",
            "* **ESR (Erythrocyte Sedimentation Rate):**  Both the 1st hour (26 mm/hr) and 2nd hour (52 mm/hr) ESR values are considerably elevated above the normal range of 0-8 mm/hr for the first hour.  Elevated ESR indicates inflammation in the body.  The cause needs further investigation.\n",
            "\n",
            "* **Serum Sodium:**  The serum sodium level (122 mmol/l) is below the normal range of 135-146 mmol/l. This is considered hyponatremia (low sodium) and requires medical attention to determine the underlying cause.\n",
            "\n",
            "* **Serum Chloride:** The serum chloride level (97 mmol/l) is slightly below the lower limit of the normal range (98-107 mmol/l). While only marginally low, it warrants monitoring, especially in conjunction with the hyponatremia.\n",
            "\n",
            "**All other values fall within their respective reference ranges.**\n",
            "\n",
            "**Important Note:** I am an AI and cannot give medical advice.  This analysis is for informational purposes only.  Mr. Kishan Goud should consult with his doctor or healthcare provider to discuss these abnormal results, their potential significance, and the necessary follow-up investigations or treatment.  The elevated Widal test and ESR, along with hyponatremia, require particular attention.\n",
            "\n"
          ]
        }
      ]
    },
    {
      "cell_type": "code",
      "source": [
        "\n",
        "def explain_medical_terms(text):\n",
        "  model=genai.GenerativeModel(\"gemini-1.5-flash\")\n",
        "  prompt = f\"Explain the medical terms in the following health report in simple language:\\n\\n{text}\"\n",
        "  response = model.generate_content(prompt)\n",
        "  return response.text\n",
        "\n",
        "explanation=explain_medical_terms(extracted_text)\n",
        "print(\"Simplified Explanation\\n\",explanation)"
      ],
      "metadata": {
        "colab": {
          "base_uri": "https://localhost:8080/",
          "height": 1000
        },
        "id": "wVoSLoG2OOWD",
        "outputId": "350b4621-c979-4e26-ee4e-1a8e24ede702"
      },
      "execution_count": 21,
      "outputs": [
        {
          "output_type": "stream",
          "name": "stdout",
          "text": [
            "Simplified Explanation\n",
            " This report shows the results of several blood tests performed on Mr. Kishan Goud.  Let's break down each section:\n",
            "\n",
            "\n",
            "**1. WIDAL Test (for Typhoid Fever):**\n",
            "\n",
            "* **S. Typhi \"O\" 1:160:** This measures antibodies to *Salmonella Typhi* (the bacteria that causes typhoid fever).  \"O\" refers to a specific part of the bacteria.  A 1:160 result suggests a possible past or current typhoid infection.  The higher the number, the stronger the antibody response.  The reference range is 1:20, so this is significantly elevated.\n",
            "* **S. Typhi \"H\" 1:80:** Similar to above, but \"H\" refers to another part of the bacteria.  This is also elevated compared to the reference range.\n",
            "* **S. Paratyphi \"AH\" 1:20:**  Tests for antibodies to *Salmonella Paratyphi* A, another type of Salmonella. This result is within the normal range.\n",
            "* **S. Paratyphi \"BH\" 1:20:** Tests for antibodies to *Salmonella Paratyphi* B. This result is within the normal range.\n",
            "\n",
            "**In simple terms:** The Widal test suggests a possible typhoid fever infection (due to elevated S. Typhi O and H antibodies), although more investigation might be needed to confirm this.\n",
            "\n",
            "\n",
            "**2. Dengue Serology (for Dengue Fever):**\n",
            "\n",
            "* **Dengue NS1 Antigen:** Negative – This means the test did not detect the NS1 protein, which is present during the acute phase of dengue infection.\n",
            "* **Dengue IgG:** Negative – This antibody indicates past infection with dengue. A negative result suggests no prior dengue infection.\n",
            "* **Dengue IgM:** Negative – This antibody indicates a recent dengue infection. A negative result means no recent dengue infection is detected.\n",
            "\n",
            "**In simple terms:** The tests show no evidence of dengue fever.\n",
            "\n",
            "\n",
            "**3. Erythrocyte Sedimentation Rate (ESR):**\n",
            "\n",
            "* **ESR 1st Hour 26 mm/hr:**  Measures how quickly red blood cells settle at the bottom of a test tube. A higher rate often indicates inflammation in the body. The normal range is 0-8 mm/hr, so this is significantly elevated.\n",
            "* **ESR 2nd Hour 52 mm/hr:** The rate increases further in the second hour, further supporting significant inflammation.\n",
            "\n",
            "**In simple terms:**  This test indicates the presence of significant inflammation somewhere in the body.  Further investigation is needed to determine the cause.\n",
            "\n",
            "\n",
            "**4. Rapid Malaria Test:**\n",
            "\n",
            "* **P.V Negative:**  Negative test for *Plasmodium vivax*, a type of malaria parasite.\n",
            "* **P.F Negative:** Negative test for *Plasmodium falciparum*, another type of malaria parasite.\n",
            "\n",
            "**In simple terms:** The tests show no evidence of malaria.\n",
            "\n",
            "\n",
            "**5. Complete Blood Picture (CBC):**\n",
            "\n",
            "This section shows various blood cell counts and parameters:\n",
            "\n",
            "* **Hemoglobin (Hb):** 13.6 gms% (within normal range) – This measures the oxygen-carrying capacity of the blood.\n",
            "* **Red Blood Cells (RBC):** 4.3 mill/cumm (within normal range) – The number of red blood cells.\n",
            "* **White Blood Cells (WBC):** 7,200 cells/cumm (within normal range) – The number of white blood cells (part of the immune system).\n",
            "* **Platelet Count:** 2.0 lakhs/cumm (within normal range) –  The number of platelets, crucial for blood clotting.\n",
            "* **Packed Cell Volume (PCV):** 40.5% (within normal range) – The percentage of red blood cells in the blood.\n",
            "* **Differential Count:** This shows the percentages of different types of white blood cells (neutrophils, lymphocytes, eosinophils, monocytes, basophils) — all within normal ranges.\n",
            "* **Peripheral Blood Smear:**  A microscopic examination of the blood; findings are within normal limits.\n",
            "\n",
            "\n",
            "**In simple terms:** The overall blood count is normal.\n",
            "\n",
            "\n",
            "**6. HbA1c (for Diabetes):**\n",
            "\n",
            "* **HbA1c 5.4%:**  Measures average blood sugar levels over the past 2-3 months.  This result falls within the normal range for non-diabetics, indicating good blood sugar control.\n",
            "\n",
            "**In simple terms:** Blood sugar levels are well-controlled and indicate no diabetes.\n",
            "\n",
            "\n",
            "**7. Serum Creatinine (Kidney Function):**\n",
            "\n",
            "* **Serum Creatinine 0.8 mg/dl:** Measures kidney function.  This is within the normal range.\n",
            "\n",
            "**In simple terms:** Kidney function appears normal.\n",
            "\n",
            "\n",
            "**8. Random Blood Glucose (Blood Sugar):**\n",
            "\n",
            "* **Random Blood Glucose:** This is a blood sugar level at a random time. The result is within the normal range.\n",
            "\n",
            "**In simple terms:** Blood sugar level is within the normal range at the time of the test.\n",
            "\n",
            "\n",
            "**9. Liver Function Test (LFT):**\n",
            "\n",
            "This section shows various tests related to liver health; most results are within normal ranges, including:\n",
            "\n",
            "* **Total Bilirubin, Direct Bilirubin, Indirect Bilirubin:**  These measure bilirubin, a breakdown product of hemoglobin.  All are normal.\n",
            "* **Alkaline Phosphatase (ALP), SGOT (AST), SGPT (ALT):** These are enzymes found in the liver; levels are within normal ranges.\n",
            "* **Total Protein, Albumin, Globulin, A/G Ratio:**  Measurements of proteins in the blood, all within normal range.\n",
            "\n",
            "\n",
            "**In simple terms:** Liver function appears normal.\n",
            "\n",
            "\n",
            "**10. Serum Electrolytes:**\n",
            "\n",
            "These are measurements of minerals in the blood:\n",
            "\n",
            "* **Sodium (Na+):** Slightly low, but might still be within the acceptable range depending on individual variation. Further evaluation is needed\n",
            "* **Potassium (K+):** Within the normal range.\n",
            "* **Chloride (Cl−):** Slightly low, but might still be within the acceptable range depending on individual variation. Further evaluation is needed.\n",
            "\n",
            "\n",
            "**In simple terms:** Sodium and Chloride levels are slightly low, requiring further evaluation.\n",
            "\n",
            "\n",
            "**Overall:**  The report shows mostly normal results, except for the elevated ESR (indicating inflammation), slightly low sodium and chloride levels, and potentially past or current typhoid infection (Widal test).  A doctor should interpret these results in the context of Mr. Kishan Goud's symptoms and medical history to determine the appropriate next steps.  Further investigations are likely needed to determine the cause of the inflammation and clarify the typhoid findings.\n",
            "\n"
          ]
        }
      ]
    },
    {
      "cell_type": "code",
      "source": [
        "def ask_gemini_about_report(text,question):\n",
        "  model=genai.GenerativeModel(\"gemini-1.5-flash\")\n",
        "  prompt = f\"The following is anhealth report:\\n\\n{text}\\n\\nAnswer the following question based on the report:\\n{question}\"\n",
        "  response = model.generate_content(prompt)\n",
        "  return response.text\n",
        "question = \"What is the patient's diagnosis?\"\n",
        "answer = ask_gemini_about_report(extracted_text,question)\n",
        "print(\"Answer\\n\",answer)"
      ],
      "metadata": {
        "colab": {
          "base_uri": "https://localhost:8080/",
          "height": 89
        },
        "id": "xpnul-ICOOY7",
        "outputId": "12bd4774-1704-49b6-a24d-79f80635cd4d"
      },
      "execution_count": 22,
      "outputs": [
        {
          "output_type": "stream",
          "name": "stdout",
          "text": [
            "Answer\n",
            " The provided lab report does not offer a diagnosis.  It shows test results, some slightly outside of the reference ranges (e.g., elevated ESR), but these results alone cannot determine a diagnosis.  A diagnosis requires clinical evaluation by a physician considering symptoms, medical history, and these lab results in context.\n",
            "\n"
          ]
        }
      ]
    },
    {
      "cell_type": "code",
      "source": [],
      "metadata": {
        "id": "4x_q8AxbOOcV"
      },
      "execution_count": null,
      "outputs": []
    },
    {
      "cell_type": "code",
      "source": [],
      "metadata": {
        "id": "wrIqPkFJVg9s"
      },
      "execution_count": null,
      "outputs": []
    },
    {
      "cell_type": "code",
      "source": [],
      "metadata": {
        "id": "QmbG3HNHVg6P"
      },
      "execution_count": null,
      "outputs": []
    },
    {
      "cell_type": "code",
      "source": [],
      "metadata": {
        "id": "GGA9BCOAVg3m"
      },
      "execution_count": null,
      "outputs": []
    },
    {
      "cell_type": "code",
      "source": [],
      "metadata": {
        "id": "liPAJU5pVg2C"
      },
      "execution_count": null,
      "outputs": []
    },
    {
      "cell_type": "code",
      "source": [],
      "metadata": {
        "id": "V9E8-2z5Vg0A"
      },
      "execution_count": null,
      "outputs": []
    },
    {
      "cell_type": "code",
      "source": [],
      "metadata": {
        "id": "oEZ4pbzeVgx8"
      },
      "execution_count": null,
      "outputs": []
    },
    {
      "cell_type": "code",
      "source": [],
      "metadata": {
        "id": "k3IxgHt9VgpA"
      },
      "execution_count": null,
      "outputs": []
    },
    {
      "cell_type": "code",
      "source": [],
      "metadata": {
        "id": "MMEhW1pFVgnQ"
      },
      "execution_count": null,
      "outputs": []
    },
    {
      "cell_type": "code",
      "source": [],
      "metadata": {
        "id": "NadgrvOqVgls"
      },
      "execution_count": null,
      "outputs": []
    },
    {
      "cell_type": "code",
      "source": [],
      "metadata": {
        "id": "W8mQvAw3Vgj_"
      },
      "execution_count": null,
      "outputs": []
    },
    {
      "cell_type": "code",
      "source": [],
      "metadata": {
        "id": "ZCcne_F6Vghv"
      },
      "execution_count": null,
      "outputs": []
    },
    {
      "cell_type": "code",
      "source": [],
      "metadata": {
        "id": "rnUM_eUnVgf9"
      },
      "execution_count": null,
      "outputs": []
    },
    {
      "cell_type": "code",
      "source": [],
      "metadata": {
        "id": "NsY43c5OVgeB"
      },
      "execution_count": null,
      "outputs": []
    },
    {
      "cell_type": "code",
      "source": [],
      "metadata": {
        "id": "Ruh0CEy3Vgbh"
      },
      "execution_count": null,
      "outputs": []
    },
    {
      "cell_type": "code",
      "source": [],
      "metadata": {
        "id": "S57FFdOhVgZI"
      },
      "execution_count": null,
      "outputs": []
    },
    {
      "cell_type": "code",
      "source": [],
      "metadata": {
        "id": "1vNSbEMtVgWq"
      },
      "execution_count": null,
      "outputs": []
    },
    {
      "cell_type": "code",
      "source": [],
      "metadata": {
        "id": "FbtdAxvPVf2Z"
      },
      "execution_count": null,
      "outputs": []
    }
  ]
}